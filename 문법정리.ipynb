{
 "cells": [
  {
   "cell_type": "code",
   "execution_count": 1,
   "metadata": {
    "collapsed": true
   },
   "outputs": [],
   "source": [
    "a = 3"
   ]
  },
  {
   "cell_type": "code",
   "execution_count": 3,
   "metadata": {
    "collapsed": false,
    "scrolled": true
   },
   "outputs": [
    {
     "data": {
      "text/plain": [
       "5"
      ]
     },
     "execution_count": 3,
     "metadata": {},
     "output_type": "execute_result"
    }
   ],
   "source": [
    "# 변수 연산 = {+,-,*,/, ** , //}\n",
    "b=2\n",
    "a+b"
   ]
  },
  {
   "cell_type": "code",
   "execution_count": 4,
   "metadata": {
    "collapsed": false
   },
   "outputs": [
    {
     "data": {
      "text/plain": [
       "1"
      ]
     },
     "execution_count": 4,
     "metadata": {},
     "output_type": "execute_result"
    }
   ],
   "source": [
    "a-b"
   ]
  },
  {
   "cell_type": "code",
   "execution_count": 5,
   "metadata": {
    "collapsed": false
   },
   "outputs": [
    {
     "data": {
      "text/plain": [
       "6"
      ]
     },
     "execution_count": 5,
     "metadata": {},
     "output_type": "execute_result"
    }
   ],
   "source": [
    "a*b"
   ]
  },
  {
   "cell_type": "code",
   "execution_count": 6,
   "metadata": {
    "collapsed": false
   },
   "outputs": [
    {
     "data": {
      "text/plain": [
       "1.5"
      ]
     },
     "execution_count": 6,
     "metadata": {},
     "output_type": "execute_result"
    }
   ],
   "source": [
    "a/b"
   ]
  },
  {
   "cell_type": "code",
   "execution_count": 7,
   "metadata": {
    "collapsed": false
   },
   "outputs": [
    {
     "data": {
      "text/plain": [
       "9"
      ]
     },
     "execution_count": 7,
     "metadata": {},
     "output_type": "execute_result"
    }
   ],
   "source": [
    "a**b"
   ]
  },
  {
   "cell_type": "code",
   "execution_count": 8,
   "metadata": {
    "collapsed": false
   },
   "outputs": [
    {
     "data": {
      "text/plain": [
       "1"
      ]
     },
     "execution_count": 8,
     "metadata": {},
     "output_type": "execute_result"
    }
   ],
   "source": [
    "a//b # integer division"
   ]
  },
  {
   "cell_type": "code",
   "execution_count": 12,
   "metadata": {
    "collapsed": false
   },
   "outputs": [],
   "source": [
    "#naming convention\n",
    "#PEP8\n",
    "#String\n",
    "teammember='lkm'\n",
    "teamMember = 'yang' # camelCase\n",
    "team_member = 'Chris Ray' #PEP8"
   ]
  },
  {
   "cell_type": "code",
   "execution_count": 15,
   "metadata": {
    "collapsed": false
   },
   "outputs": [
    {
     "data": {
      "text/plain": [
       "'Chris Ray'"
      ]
     },
     "execution_count": 15,
     "metadata": {},
     "output_type": "execute_result"
    }
   ],
   "source": [
    "team_member"
   ]
  },
  {
   "cell_type": "code",
   "execution_count": 16,
   "metadata": {
    "collapsed": false
   },
   "outputs": [
    {
     "data": {
      "text/plain": [
       "'C'"
      ]
     },
     "execution_count": 16,
     "metadata": {},
     "output_type": "execute_result"
    }
   ],
   "source": [
    "team_member[0]"
   ]
  },
  {
   "cell_type": "code",
   "execution_count": 19,
   "metadata": {
    "collapsed": false
   },
   "outputs": [
    {
     "data": {
      "text/plain": [
       "\"Helen's House\""
      ]
     },
     "execution_count": 19,
     "metadata": {},
     "output_type": "execute_result"
    }
   ],
   "source": [
    "a = \"Helen's House\"\n",
    "a"
   ]
  },
  {
   "cell_type": "code",
   "execution_count": 20,
   "metadata": {
    "collapsed": false
   },
   "outputs": [
    {
     "data": {
      "text/plain": [
       "'Ray'"
      ]
     },
     "execution_count": 20,
     "metadata": {},
     "output_type": "execute_result"
    }
   ],
   "source": [
    "team_member[6:9] # 6포함 starting-point, 9미포함 end-point"
   ]
  },
  {
   "cell_type": "code",
   "execution_count": 21,
   "metadata": {
    "collapsed": false
   },
   "outputs": [
    {
     "data": {
      "text/plain": [
       "'Chris Ray is your name'"
      ]
     },
     "execution_count": 21,
     "metadata": {},
     "output_type": "execute_result"
    }
   ],
   "source": [
    "team_member = team_member + ' is your name'\n",
    "team_member"
   ]
  },
  {
   "cell_type": "code",
   "execution_count": 23,
   "metadata": {
    "collapsed": false
   },
   "outputs": [
    {
     "data": {
      "text/plain": [
       "[1, 2, 3]"
      ]
     },
     "execution_count": 23,
     "metadata": {},
     "output_type": "execute_result"
    }
   ],
   "source": [
    "# list\n",
    "a = [1,2,3]\n",
    "a"
   ]
  },
  {
   "cell_type": "code",
   "execution_count": 24,
   "metadata": {
    "collapsed": false
   },
   "outputs": [
    {
     "data": {
      "text/plain": [
       "[1, 2, 3, 4]"
      ]
     },
     "execution_count": 24,
     "metadata": {},
     "output_type": "execute_result"
    }
   ],
   "source": [
    "a.append(4)\n",
    "a"
   ]
  },
  {
   "cell_type": "code",
   "execution_count": 26,
   "metadata": {
    "collapsed": false
   },
   "outputs": [
    {
     "data": {
      "text/plain": [
       "[0, 1, -1, 2, 3, 4]"
      ]
     },
     "execution_count": 26,
     "metadata": {},
     "output_type": "execute_result"
    }
   ],
   "source": [
    "a.insert(2,-1)\n",
    "a"
   ]
  },
  {
   "cell_type": "code",
   "execution_count": 28,
   "metadata": {
    "collapsed": false
   },
   "outputs": [
    {
     "data": {
      "text/plain": [
       "[4, 3, 2, 1, 0, -1]"
      ]
     },
     "execution_count": 28,
     "metadata": {},
     "output_type": "execute_result"
    }
   ],
   "source": [
    "a.sort()\n",
    "a.reverse()\n",
    "a"
   ]
  },
  {
   "cell_type": "code",
   "execution_count": 30,
   "metadata": {
    "collapsed": false
   },
   "outputs": [
    {
     "data": {
      "text/plain": [
       "4"
      ]
     },
     "execution_count": 30,
     "metadata": {},
     "output_type": "execute_result"
    }
   ],
   "source": [
    "a.index(0)"
   ]
  },
  {
   "cell_type": "code",
   "execution_count": 31,
   "metadata": {
    "collapsed": false
   },
   "outputs": [
    {
     "data": {
      "text/plain": [
       "4"
      ]
     },
     "execution_count": 31,
     "metadata": {},
     "output_type": "execute_result"
    }
   ],
   "source": [
    "a[0]"
   ]
  },
  {
   "cell_type": "code",
   "execution_count": 34,
   "metadata": {
    "collapsed": false
   },
   "outputs": [
    {
     "data": {
      "text/plain": [
       "[4, 3, 2, 0]"
      ]
     },
     "execution_count": 34,
     "metadata": {},
     "output_type": "execute_result"
    }
   ],
   "source": [
    "a.remove(-1)\n",
    "a"
   ]
  },
  {
   "cell_type": "code",
   "execution_count": 35,
   "metadata": {
    "collapsed": false
   },
   "outputs": [
    {
     "data": {
      "text/plain": [
       "[2, 2, 2]"
      ]
     },
     "execution_count": 35,
     "metadata": {},
     "output_type": "execute_result"
    }
   ],
   "source": [
    "a=[2,2,2,2]\n",
    "a.remove(2)\n",
    "a"
   ]
  },
  {
   "cell_type": "code",
   "execution_count": 36,
   "metadata": {
    "collapsed": false
   },
   "outputs": [
    {
     "data": {
      "text/plain": [
       "3"
      ]
     },
     "execution_count": 36,
     "metadata": {},
     "output_type": "execute_result"
    }
   ],
   "source": [
    "a=[1,2,3]\n",
    "a.pop() # pop = 제일 마지막 요소를 뽑아서 리턴하고 && 걔를 delete시킨다"
   ]
  },
  {
   "cell_type": "code",
   "execution_count": 37,
   "metadata": {
    "collapsed": false
   },
   "outputs": [
    {
     "data": {
      "text/plain": [
       "[1, 2]"
      ]
     },
     "execution_count": 37,
     "metadata": {},
     "output_type": "execute_result"
    }
   ],
   "source": [
    "a"
   ]
  },
  {
   "cell_type": "code",
   "execution_count": 38,
   "metadata": {
    "collapsed": true
   },
   "outputs": [
    {
     "data": {
      "text/plain": [
       "'\\n스택 == 자료구조의 일종으로, 특수한 선형 리스트\\nLIFO : Last In First Out\\nTop : 가장 최근에 들어간 요소\\npop : TOP의 요소를 가지고 나오는 함수\\n'"
      ]
     },
     "execution_count": 38,
     "metadata": {},
     "output_type": "execute_result"
    }
   ],
   "source": [
    "\"\"\"\n",
    "스택 == 자료구조의 일종으로, 특수한 선형 리스트\n",
    "LIFO : Last In First Out\n",
    "Top : 가장 최근에 들어간 요소\n",
    "pop : TOP의 요소를 가지고 나오는 함수\n",
    "\"\"\""
   ]
  },
  {
   "cell_type": "code",
   "execution_count": 41,
   "metadata": {
    "collapsed": false
   },
   "outputs": [
    {
     "data": {
      "text/plain": [
       "0"
      ]
     },
     "execution_count": 41,
     "metadata": {},
     "output_type": "execute_result"
    }
   ],
   "source": [
    "a = [1,1,2,3]\n",
    "a.count(4)"
   ]
  },
  {
   "cell_type": "code",
   "execution_count": 42,
   "metadata": {
    "collapsed": false
   },
   "outputs": [
    {
     "data": {
      "text/plain": [
       "[1, 2, 3, [4, 5, 6]]"
      ]
     },
     "execution_count": 42,
     "metadata": {},
     "output_type": "execute_result"
    }
   ],
   "source": [
    "a = [1,2,3]\n",
    "b = [4,5,6]\n",
    "a.append(b)\n",
    "a"
   ]
  },
  {
   "cell_type": "code",
   "execution_count": 44,
   "metadata": {
    "collapsed": false
   },
   "outputs": [
    {
     "data": {
      "text/plain": [
       "3"
      ]
     },
     "execution_count": 44,
     "metadata": {},
     "output_type": "execute_result"
    }
   ],
   "source": [
    "a[2]"
   ]
  },
  {
   "cell_type": "code",
   "execution_count": 45,
   "metadata": {
    "collapsed": true
   },
   "outputs": [],
   "source": [
    "a.extend(b)"
   ]
  },
  {
   "cell_type": "code",
   "execution_count": 46,
   "metadata": {
    "collapsed": false
   },
   "outputs": [
    {
     "data": {
      "text/plain": [
       "[1, 2, 3, [4, 5, 6], 4, 5, 6]"
      ]
     },
     "execution_count": 46,
     "metadata": {},
     "output_type": "execute_result"
    }
   ],
   "source": [
    "a"
   ]
  },
  {
   "cell_type": "code",
   "execution_count": 47,
   "metadata": {
    "collapsed": true
   },
   "outputs": [],
   "source": [
    "a.remove(2)"
   ]
  },
  {
   "cell_type": "code",
   "execution_count": 48,
   "metadata": {
    "collapsed": false
   },
   "outputs": [
    {
     "data": {
      "text/plain": [
       "[1, 3, [4, 5, 6], 4, 5, 6]"
      ]
     },
     "execution_count": 48,
     "metadata": {},
     "output_type": "execute_result"
    }
   ],
   "source": [
    "a"
   ]
  },
  {
   "cell_type": "code",
   "execution_count": 49,
   "metadata": {
    "collapsed": true
   },
   "outputs": [],
   "source": [
    "del a[0]"
   ]
  },
  {
   "cell_type": "code",
   "execution_count": 50,
   "metadata": {
    "collapsed": false
   },
   "outputs": [
    {
     "data": {
      "text/plain": [
       "[3, [4, 5, 6], 4, 5, 6]"
      ]
     },
     "execution_count": 50,
     "metadata": {},
     "output_type": "execute_result"
    }
   ],
   "source": [
    "a"
   ]
  },
  {
   "cell_type": "code",
   "execution_count": 75,
   "metadata": {
    "collapsed": false
   },
   "outputs": [
    {
     "data": {
      "text/plain": [
       "(1, 2)"
      ]
     },
     "execution_count": 75,
     "metadata": {},
     "output_type": "execute_result"
    }
   ],
   "source": [
    "#tuple\n",
    "coordinate = (1,2)\n",
    "b = (1,2,3,4,5)\n",
    "coordinate"
   ]
  },
  {
   "cell_type": "code",
   "execution_count": 58,
   "metadata": {
    "collapsed": false
   },
   "outputs": [
    {
     "data": {
      "text/plain": [
       "{'address': 'seoul', 'age': 22, 'name': 'Chris'}"
      ]
     },
     "execution_count": 58,
     "metadata": {},
     "output_type": "execute_result"
    }
   ],
   "source": [
    "#dictionary\n",
    "a = []\n",
    "dict = {'name':'Chris','age':22,'address':'seoul'}\n",
    "dict"
   ]
  },
  {
   "cell_type": "code",
   "execution_count": 61,
   "metadata": {
    "collapsed": false
   },
   "outputs": [
    {
     "name": "stdout",
     "output_type": "stream",
     "text": [
      "address\n",
      "name\n",
      "age\n"
     ]
    }
   ],
   "source": [
    "for key in dict.keys():\n",
    "    print(key)"
   ]
  },
  {
   "cell_type": "code",
   "execution_count": 62,
   "metadata": {
    "collapsed": false
   },
   "outputs": [
    {
     "name": "stdout",
     "output_type": "stream",
     "text": [
      "seoul\n",
      "Chris\n",
      "22\n"
     ]
    }
   ],
   "source": [
    "for value in dict.values():\n",
    "    print(value)"
   ]
  },
  {
   "cell_type": "code",
   "execution_count": 65,
   "metadata": {
    "collapsed": false
   },
   "outputs": [
    {
     "data": {
      "text/plain": [
       "'chris'"
      ]
     },
     "execution_count": 65,
     "metadata": {},
     "output_type": "execute_result"
    }
   ],
   "source": [
    "dict[\"name\"]\n",
    "#request.dict['login_id'] --> request.POST['login_id'] # url('^$',HomeView.as_view())\n",
    "POST = {'login_id':'chris', 'login_pw':'1234'}\n",
    "POST['login_id']"
   ]
  },
  {
   "cell_type": "code",
   "execution_count": 66,
   "metadata": {
    "collapsed": false
   },
   "outputs": [
    {
     "data": {
      "text/plain": [
       "'chris'"
      ]
     },
     "execution_count": 66,
     "metadata": {},
     "output_type": "execute_result"
    }
   ],
   "source": [
    "POST.get('login_id')"
   ]
  },
  {
   "cell_type": "code",
   "execution_count": 67,
   "metadata": {
    "collapsed": false,
    "scrolled": true
   },
   "outputs": [
    {
     "data": {
      "text/plain": [
       "{}"
      ]
     },
     "execution_count": 67,
     "metadata": {},
     "output_type": "execute_result"
    }
   ],
   "source": [
    "POST.clear()\n",
    "POST"
   ]
  },
  {
   "cell_type": "code",
   "execution_count": 69,
   "metadata": {
    "collapsed": false
   },
   "outputs": [
    {
     "data": {
      "text/plain": [
       "[]"
      ]
     },
     "execution_count": 69,
     "metadata": {},
     "output_type": "execute_result"
    }
   ],
   "source": [
    "a = []\n",
    "b = {}\n",
    "a"
   ]
  },
  {
   "cell_type": "code",
   "execution_count": 70,
   "metadata": {
    "collapsed": false
   },
   "outputs": [
    {
     "data": {
      "text/plain": [
       "{}"
      ]
     },
     "execution_count": 70,
     "metadata": {},
     "output_type": "execute_result"
    }
   ],
   "source": [
    "b"
   ]
  },
  {
   "cell_type": "code",
   "execution_count": 74,
   "metadata": {
    "collapsed": false
   },
   "outputs": [
    {
     "data": {
      "text/plain": [
       "{'B', 'e', 'y'}"
      ]
     },
     "execution_count": 74,
     "metadata": {},
     "output_type": "execute_result"
    }
   ],
   "source": [
    "#집합 자료형 set : 고1 때 배우는 집합 unordered data type < -- > tuple ordered data type\n",
    "#연산 = {합집합,차집합,교집합,여집합}\n",
    "s1 = set('Bye')\n",
    "s1"
   ]
  },
  {
   "cell_type": "code",
   "execution_count": 79,
   "metadata": {
    "collapsed": false
   },
   "outputs": [
    {
     "data": {
      "text/plain": [
       "{2, 3, 4, 5, 6}"
      ]
     },
     "execution_count": 79,
     "metadata": {},
     "output_type": "execute_result"
    }
   ],
   "source": [
    "s1 = set([1,2,3,4,5,6])\n",
    "s2 = set([2,3,4,5,6,7,8,9])\n",
    "s2.intersection(s1) # s1 inter s2 == s2 inter s1"
   ]
  },
  {
   "cell_type": "code",
   "execution_count": 78,
   "metadata": {
    "collapsed": false
   },
   "outputs": [
    {
     "data": {
      "text/plain": [
       "{7, 8, 9}"
      ]
     },
     "execution_count": 78,
     "metadata": {},
     "output_type": "execute_result"
    }
   ],
   "source": [
    "s1.difference(s2) # s1 - s2 != s2 - s1\n",
    "s2.difference(s1) # s2 - s1"
   ]
  },
  {
   "cell_type": "code",
   "execution_count": 81,
   "metadata": {
    "collapsed": false
   },
   "outputs": [
    {
     "data": {
      "text/plain": [
       "{1, 2, 3, 4, 5, 6, 7, 8, 9}"
      ]
     },
     "execution_count": 81,
     "metadata": {},
     "output_type": "execute_result"
    }
   ],
   "source": [
    "s2.union(s1)"
   ]
  },
  {
   "cell_type": "code",
   "execution_count": 83,
   "metadata": {
    "collapsed": false
   },
   "outputs": [
    {
     "name": "stdout",
     "output_type": "stream",
     "text": [
      "else done\n"
     ]
    }
   ],
   "source": [
    "# 조건문\n",
    "# if , else , elif\n",
    "# else : else가 나오기 전까지의 모든 조건에 대한 '여집합'\n",
    "# elif : elif 위의 if 조건을 모두 제외하고 사용자가 새롭게 정의하는 조건에 만족하는 집합\n",
    "a = 3 # 배정문\n",
    "if a < 0:\n",
    "    print('a is negative')\n",
    "elif a == 0:\n",
    "    print('a is zero')\n",
    "else:\n",
    "    print('else done')"
   ]
  },
  {
   "cell_type": "code",
   "execution_count": 84,
   "metadata": {
    "collapsed": false
   },
   "outputs": [
    {
     "data": {
      "text/plain": [
       "True"
      ]
     },
     "execution_count": 84,
     "metadata": {},
     "output_type": "execute_result"
    }
   ],
   "source": [
    "a is 3 # 객체의 비교\n",
    "#이때 a나 3이 둘다 primitive 타입이므로 객체의 비교지만 값을 비교해서 True 리턴한다\n",
    "#클래스 간의 객체를 비교할 때는 False가 나올 수 있다 :::> 인스턴스의 메모리 주소!"
   ]
  },
  {
   "cell_type": "code",
   "execution_count": 85,
   "metadata": {
    "collapsed": false
   },
   "outputs": [
    {
     "data": {
      "text/plain": [
       "True"
      ]
     },
     "execution_count": 85,
     "metadata": {},
     "output_type": "execute_result"
    }
   ],
   "source": [
    "a == 3 # 값의 비교 "
   ]
  },
  {
   "cell_type": "code",
   "execution_count": 86,
   "metadata": {
    "collapsed": false
   },
   "outputs": [
    {
     "name": "stdout",
     "output_type": "stream",
     "text": [
      "1\n",
      "2\n",
      "3\n"
     ]
    }
   ],
   "source": [
    "# 반복문\n",
    "# while, for\n",
    "# break, continue\n",
    "a = 0\n",
    "while True: #무한루프\n",
    "    a = a + 1\n",
    "    if a > 3:\n",
    "        break\n",
    "    print(a)"
   ]
  },
  {
   "cell_type": "code",
   "execution_count": 100,
   "metadata": {
    "collapsed": false,
    "scrolled": true
   },
   "outputs": [
    {
     "name": "stdout",
     "output_type": "stream",
     "text": [
      "0\n",
      "1\n",
      "2\n",
      "3\n",
      "4\n",
      "5\n",
      "6\n",
      "7\n",
      "8\n",
      "9\n"
     ]
    }
   ],
   "source": [
    "#list[:]\n",
    "for a in range(10):\n",
    "    print(a)"
   ]
  },
  {
   "cell_type": "code",
   "execution_count": 101,
   "metadata": {
    "collapsed": true
   },
   "outputs": [
    {
     "name": "stdout",
     "output_type": "stream",
     "text": [
      "2\n",
      "4\n",
      "6\n",
      "8\n",
      "10\n",
      "12\n",
      "14\n",
      "16\n",
      "18\n",
      "3\n",
      "6\n",
      "9\n",
      "12\n",
      "15\n",
      "18\n",
      "21\n",
      "24\n",
      "27\n",
      "4\n",
      "8\n",
      "12\n",
      "16\n",
      "20\n",
      "24\n",
      "28\n",
      "32\n",
      "36\n",
      "5\n",
      "10\n",
      "15\n",
      "20\n",
      "25\n",
      "30\n",
      "35\n",
      "40\n",
      "45\n",
      "6\n",
      "12\n",
      "18\n",
      "24\n",
      "30\n",
      "36\n",
      "42\n",
      "48\n",
      "54\n",
      "7\n",
      "14\n",
      "21\n",
      "28\n",
      "35\n",
      "42\n",
      "49\n",
      "56\n",
      "63\n",
      "8\n",
      "16\n",
      "24\n",
      "32\n",
      "40\n",
      "48\n",
      "56\n",
      "64\n",
      "72\n",
      "9\n",
      "18\n",
      "27\n",
      "36\n",
      "45\n",
      "54\n",
      "63\n",
      "72\n",
      "81\n"
     ]
    }
   ],
   "source": [
    "# 구구단 2~9단 결과를 출력해보시오! 2,4~81\n",
    "for parent in range(2,10):\n",
    "    for child in range(1,10):\n",
    "        print(parent*child)"
   ]
  },
  {
   "cell_type": "code",
   "execution_count": 104,
   "metadata": {
    "collapsed": false
   },
   "outputs": [
    {
     "data": {
      "text/plain": [
       "72"
      ]
     },
     "execution_count": 104,
     "metadata": {},
     "output_type": "execute_result"
    }
   ],
   "source": [
    "for_app = [x*y for x in range(2,10) for y in range(1,10)]\n",
    "len(for_app)"
   ]
  },
  {
   "cell_type": "code",
   "execution_count": 112,
   "metadata": {
    "collapsed": true
   },
   "outputs": [
    {
     "name": "stdout",
     "output_type": "stream",
     "text": [
      "index=0\n",
      "2\n",
      "index=1\n",
      "4\n",
      "index=2\n",
      "6\n",
      "index=3\n",
      "8\n",
      "index=4\n",
      "10\n",
      "index=5\n",
      "12\n",
      "index=6\n",
      "14\n",
      "index=7\n",
      "16\n",
      "index=8\n",
      "18\n",
      "index=9\n",
      "3\n",
      "index=10\n",
      "6\n",
      "index=11\n",
      "9\n",
      "index=12\n",
      "12\n",
      "index=13\n",
      "15\n",
      "index=14\n",
      "18\n",
      "index=15\n",
      "21\n",
      "index=16\n",
      "24\n",
      "index=17\n",
      "27\n",
      "index=18\n",
      "4\n",
      "index=19\n",
      "8\n",
      "index=20\n",
      "12\n",
      "index=21\n",
      "16\n",
      "index=22\n",
      "20\n",
      "index=23\n",
      "24\n",
      "index=24\n",
      "28\n",
      "index=25\n",
      "32\n",
      "index=26\n",
      "36\n",
      "index=27\n",
      "5\n",
      "index=28\n",
      "10\n",
      "index=29\n",
      "15\n",
      "index=30\n",
      "20\n",
      "index=31\n",
      "25\n",
      "index=32\n",
      "30\n",
      "index=33\n",
      "35\n",
      "index=34\n",
      "40\n",
      "index=35\n",
      "45\n",
      "index=36\n",
      "6\n",
      "index=37\n",
      "12\n",
      "index=38\n",
      "18\n",
      "index=39\n",
      "24\n",
      "index=40\n",
      "30\n",
      "index=41\n",
      "36\n",
      "index=42\n",
      "42\n",
      "index=43\n",
      "48\n",
      "index=44\n",
      "54\n",
      "index=45\n",
      "7\n",
      "index=46\n",
      "14\n",
      "index=47\n",
      "21\n",
      "index=48\n",
      "28\n",
      "index=49\n",
      "35\n",
      "index=50\n",
      "42\n",
      "index=51\n",
      "49\n",
      "index=52\n",
      "56\n",
      "index=53\n",
      "63\n",
      "index=54\n",
      "8\n",
      "index=55\n",
      "16\n",
      "index=56\n",
      "24\n",
      "index=57\n",
      "32\n",
      "index=58\n",
      "40\n",
      "index=59\n",
      "48\n",
      "index=60\n",
      "56\n",
      "index=61\n",
      "64\n",
      "index=62\n",
      "72\n",
      "index=63\n",
      "9\n",
      "index=64\n",
      "18\n",
      "index=65\n",
      "27\n",
      "index=66\n",
      "36\n",
      "index=67\n",
      "45\n",
      "index=68\n",
      "54\n",
      "index=69\n",
      "63\n",
      "index=70\n",
      "72\n",
      "index=71\n",
      "81\n"
     ]
    }
   ],
   "source": [
    "for index, child in enumerate(for_app):\n",
    "    print('index='+str(index))\n",
    "    print(child)"
   ]
  },
  {
   "cell_type": "code",
   "execution_count": 111,
   "metadata": {
    "collapsed": false
   },
   "outputs": [
    {
     "name": "stdout",
     "output_type": "stream",
     "text": [
      "3.0\n"
     ]
    }
   ],
   "source": [
    "a = '3'\n",
    "print(float(a))"
   ]
  },
  {
   "cell_type": "code",
   "execution_count": 118,
   "metadata": {
    "collapsed": true
   },
   "outputs": [
    {
     "data": {
      "text/plain": [
       "6"
      ]
     },
     "execution_count": 118,
     "metadata": {},
     "output_type": "execute_result"
    }
   ],
   "source": [
    "#함수\n",
    "\"\"\"\n",
    "def 함수명(파라미터1,...):\n",
    "    \n",
    "\"\"\"\n",
    "def sum(*args):\n",
    "    result = 0\n",
    "    for e in args:\n",
    "        result += e\n",
    "    return result\n",
    "sum(1,2,3)"
   ]
  },
  {
   "cell_type": "code",
   "execution_count": 122,
   "metadata": {
    "collapsed": false
   },
   "outputs": [
    {
     "data": {
      "text/plain": [
       "1"
      ]
     },
     "execution_count": 122,
     "metadata": {},
     "output_type": "execute_result"
    }
   ],
   "source": [
    "def sum(a,b=0): # 함수 파라미터 디폴트 값처리 --> 클래스 __init__ 함수에서 많이 활용됨!\n",
    "    return a+b\n",
    "sum(1)"
   ]
  },
  {
   "cell_type": "code",
   "execution_count": 125,
   "metadata": {
    "collapsed": true
   },
   "outputs": [
    {
     "name": "stdout",
     "output_type": "stream",
     "text": [
      "이름을 입력해주세요chris ray\n",
      "결과는 chris ray\n"
     ]
    }
   ],
   "source": [
    "#사용자 입출력\n",
    "a = input('이름을 입력해주세요')\n",
    "print('결과는 '+str(a))"
   ]
  },
  {
   "cell_type": "code",
   "execution_count": 127,
   "metadata": {
    "collapsed": false
   },
   "outputs": [
    {
     "name": "stdout",
     "output_type": "stream",
     "text": [
      "['first line\\n', 'second line\\n', 'last line\\n']\n"
     ]
    }
   ],
   "source": [
    "#파일 입출력 IO\n",
    "\"\"\"\n",
    "test.txt\n",
    "first line\n",
    "second line\n",
    "last line\n",
    "\"\"\"\n",
    "chris = open('test.txt','r')\n",
    "lines = chris.readlines()\n",
    "print(lines)\n",
    "chris.close()"
   ]
  },
  {
   "cell_type": "code",
   "execution_count": 128,
   "metadata": {
    "collapsed": false
   },
   "outputs": [
    {
     "name": "stdout",
     "output_type": "stream",
     "text": [
      "['first line\\n', 'second line\\n', 'last line\\n']\n"
     ]
    }
   ],
   "source": [
    "with open('test.txt','r') as chris:\n",
    "    lines = chris.readlines()\n",
    "    print(lines)"
   ]
  },
  {
   "cell_type": "code",
   "execution_count": 130,
   "metadata": {
    "collapsed": false
   },
   "outputs": [
    {
     "name": "stdout",
     "output_type": "stream",
     "text": [
      "4\n"
     ]
    }
   ],
   "source": [
    "# 클래스 : ADT(Abstract Data Type) 그 자체. 추상적인 대상에 대한 구체적 모델링의 결과. 클래스의 목적은 '재사용!' 구조적 프로그래밍을 위한 도구.\n",
    "\"\"\"\n",
    "클래스 = { 변수,함수 }\n",
    "- 변수 : ex) reqeust.POST == request라는 특정 클래스의 객체(인스턴스)가 가지는 변수 POST (장고에서 datatype은 dictionary였음)\n",
    "- 함수 :\n",
    "ex) 1: HomeView.as_view() == HomeView라는 클래스의 as_view라는 함수 , 2) math.ceiling(3.2) == math라는 클래스의 함수 ceiling\n",
    "\"\"\"\n",
    "import math\n",
    "a = 3.2\n",
    "print(math.ceil(a)) # ceiling : 천장 , 높임 <--> floor : 바닥 , 내림"
   ]
  },
  {
   "cell_type": "code",
   "execution_count": 164,
   "metadata": {
    "collapsed": false
   },
   "outputs": [],
   "source": [
    "class car:\n",
    "    #변수\n",
    "    type = None #'승용','승합','트럭','스포츠카','세단'\n",
    "    company = None #'현대','기아','포르쉐','페라리'\n",
    "    eff = None\n",
    "    \n",
    "    #public protected private ==> name, _name, __name\n",
    "    \n",
    "    #함수\n",
    "    \n",
    "    def start_car(self):\n",
    "        print('시동을 거는 중...')\n",
    "        print('시동이 걸렸습니다')\n",
    "    def show_me_your_info(self):\n",
    "        print('나는 '+self.type+'이고 회사는 '+self.company+'이다')\n",
    "    def show_milege(self,m):\n",
    "        print(str(m)+'L로 나는 '+str(self.eff*m)+'km 를 달릴 수 있다.')\n",
    "    \n",
    "    def __init__(self,type='승용',company='현대',eff=3):\n",
    "        self.type = type\n",
    "        self.company = company\n",
    "        self.eff = eff\n",
    "\n",
    "a = car(type='승합',company='페라리',eff=10)\n",
    "b = car(type='승합',company='페라리',eff=10)"
   ]
  },
  {
   "cell_type": "code",
   "execution_count": 157,
   "metadata": {
    "collapsed": true
   },
   "outputs": [
    {
     "name": "stdout",
     "output_type": "stream",
     "text": [
      "3\n",
      "2\n",
      "1\n",
      "0\n"
     ]
    }
   ],
   "source": [
    "# 다시 기억나기 위한 재귀 체크!!!!\n",
    "def recursive(cnt):\n",
    "    if cnt < 0:\n",
    "        return\n",
    "    print(cnt)\n",
    "    cnt -=1\n",
    "    return recursive(cnt)\n",
    "recursive(3)"
   ]
  },
  {
   "cell_type": "code",
   "execution_count": 177,
   "metadata": {
    "collapsed": false
   },
   "outputs": [
    {
     "name": "stdout",
     "output_type": "stream",
     "text": [
      "나는 고급차 생성자야\n",
      "패스워드가 일치합니다, 시동이 걸렸습니다.\n"
     ]
    }
   ],
   "source": [
    "# 상속(Inheritance)과 Overriding\n",
    "class high_rank_car(car):\n",
    "    password = None\n",
    "    \"\"\"\n",
    "    def start_car(self):\n",
    "        print('나는 고급차기때문에 car와는 차원이 다릅니다.')\n",
    "        print('바로 시동이 걸렸습니다.')\n",
    "    \"\"\"\n",
    "    #Overloading 오버로딩 : 함수의 이름은 똑같지만 파라미터가 다르도 (종류,개수) 구현 방법이 다르다\n",
    "    def start_car(self,pw=None):\n",
    "        if pw is None:\n",
    "            print('비밀번호를 입력하지 않았습니다')\n",
    "            return\n",
    "        if self.password == pw:\n",
    "            print('패스워드가 일치합니다, 시동이 걸렸습니다.')\n",
    "            return\n",
    "        print('패스워드가 일치하지 않습니다, 당신은 도둑입니다')\n",
    "    \n",
    "    def __init__(self,type='스포츠카',company='포르쉐',eff=-1,password='1234'):\n",
    "        self.type = type\n",
    "        self.company = company\n",
    "        self.eff = eff\n",
    "        self.password = password\n",
    "        print('나는 고급차 생성자야')\n",
    "    \n",
    "high = high_rank_car(type='세단',company='기아',eff='5.2',password='chrisray_password')\n",
    "high.start_car('chrisray_password')"
   ]
  },
  {
   "cell_type": "code",
   "execution_count": 180,
   "metadata": {
    "collapsed": false
   },
   "outputs": [
    {
     "data": {
      "text/plain": [
       "<__main__.bicycle at 0x108bcec50>"
      ]
     },
     "execution_count": 180,
     "metadata": {},
     "output_type": "execute_result"
    }
   ],
   "source": [
    "\"\"\"\n",
    "class bicycle:\n",
    "    pass\n",
    "\"\"\"\n",
    "class bicycle(object):\n",
    "    pass\n",
    "\n",
    "bic = bicycle()\n",
    "bic\n",
    "# object --> ... --> car(parent) --> high_rank_car(child) -->"
   ]
  },
  {
   "cell_type": "code",
   "execution_count": null,
   "metadata": {
    "collapsed": true
   },
   "outputs": [],
   "source": []
  }
 ],
 "metadata": {
  "kernelspec": {
   "display_name": "Python 3",
   "language": "python",
   "name": "python3"
  },
  "language_info": {
   "codemirror_mode": {
    "name": "ipython",
    "version": 3
   },
   "file_extension": ".py",
   "mimetype": "text/x-python",
   "name": "python",
   "nbconvert_exporter": "python",
   "pygments_lexer": "ipython3",
   "version": "3.4.4"
  }
 },
 "nbformat": 4,
 "nbformat_minor": 2
}
